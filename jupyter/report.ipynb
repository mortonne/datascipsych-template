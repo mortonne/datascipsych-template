{
 "cells": [
  {
   "cell_type": "markdown",
   "metadata": {},
   "source": [
    "# Final Project Instructions\n",
    "\n",
    "Read the introduction below for an explanation of the study and main questions. Fill in the cells of the notebook below to answer the main questions. The instructions specify what questions to answer, but not how you should write your code to answer them. Use techniques that you have learned from the course to answer the questions. You may add as many code cells as you like in each section to answer the question.\n",
    "\n",
    "As part of your project, you must write at least two new functions that are included in a module in the `project` package. You may add your two functions to the `project.task` module, and/or create a new module and add functions there. You must use your two functions somewhere within this notebook to help answer the questions. You must also add a heading in the README.md file called `Installation`, which explains to a user how they can install your project once they have downloaded your project directory, and how they can run your notebook. You can assume that the user is experienced with using Visual Studio Code. You must make sure that any necessary dependencies are indicated in your `pyproject.toml` file so that they are automatically installed when the user installs your project using Pip."
   ]
  },
  {
   "cell_type": "markdown",
   "metadata": {},
   "source": [
    "# Introduction\n",
    "\n",
    "In free-recall studies, participants study a list of words and then attempt to recall them in any order they want, with the goal of recalling as many items as possible. Researchers have found that evidence of *serial position effects*, where the probability of recalling a given item varies depending on what position it was studied in the list. Words tend to be easier to recall if they were presented toward the start of the list; this is called the *primacy effect*. Words also tend to be easier to recall if they were presented toward the end of the list; this is called the *recency effect*. The recency can be observed when people recall events from their life; more recent events tend to be easier to recall, all else being equal.\n",
    "\n",
    "Polyn, Erlikhman, & Kahana (2011) wanted to know how the content of the words in the list affects serial position effects. They had participants complete three kinds of recall tests. In the *uncategorized* condition, participants studied lists of 24 words each, where each word was taken from a different category. After studying each list, participants were asked to complete a *free recall* test where they verbally recalled as many words as they could from the list, in whatever order they wanted. In the *categorized* condition, participants studied lists of words drawn from three categories that were mixed together in the list, with 8 words from each category. After studying each lists, participants completed a free recall test. In the recall-by-category condition, participants studies lists drawn from three categories, like in the categorized lists. However, at the end of the list, they completed a modified free recall task, where they were asked about each category in turn. They were first asked to recall words from one category, then a second category, and finally a third category.\n",
    "\n",
    "The authors wanted to determine how recall varies based on serial position and task condition. The main question was whether they would observe *persistent recency*, where more recent items would be easier to recall even in the recall-by-category condition after participants had already recalled from one or two other categories. If they did observe persistent recency in the recall-by-category condition, this would mean that the recency effect persists even after participants have been distracted by recalling other information.\n",
    "\n",
    "## References\n",
    "Polyn, S. M., Erlikhman, G. & Kahana, M. J. Semantic cuing and the scale insensitivity of recency and contiguity. J Exp Psychology Learn Mem Cognition 37, 766 (2011)."
   ]
  },
  {
   "cell_type": "markdown",
   "metadata": {},
   "source": [
    "# Results"
   ]
  },
  {
   "cell_type": "markdown",
   "metadata": {},
   "source": [
    "## Read the data\n",
    "\n",
    "First, read the data from the CSV file. You can use `project.task.get_data_file` to get a path to the data file. When reading in the data, you will need to specify that \"n/a\" values should be treated as `null`. See `src/project/data/data_dictionary.json` for a data dictionary of the task, which specifies the meaning and possible values of each column, in [BIDS format](https://bids-specification.readthedocs.io/en/stable/modality-specific-files/task-events.html). The data dictionary can also optionally be read using `project.task.load_data_dict`."
   ]
  },
  {
   "cell_type": "code",
   "execution_count": 1,
   "metadata": {},
   "outputs": [],
   "source": [
    "from project import task\n",
    "data_file = task.get_data_file()\n",
    "# your code here"
   ]
  },
  {
   "cell_type": "markdown",
   "metadata": {},
   "source": [
    "## Recode the data\n",
    "\n",
    "The raw data have numeric task codes, where the task is 1, 2, or 3. Look at the data dictionary in the README file and re-assign these values to a text label describing each task phase, instead of a numeric code. For task=1, use \"Uncategorized\". For task=2, use \"Categorized\". For task=3, use \"Recall-by-category\". Also, filter to remove any trials where `study` is `False`; this will exclude any recall attempts where the participant accidentally repeated a word or recalled a word that wasn't on the list (these words that were recalled but were not on the list are called *intrusions*)."
   ]
  },
  {
   "cell_type": "code",
   "execution_count": 2,
   "metadata": {},
   "outputs": [],
   "source": [
    "# your code here"
   ]
  },
  {
   "cell_type": "markdown",
   "metadata": {},
   "source": [
    "## Compare overall recall between conditions\n",
    "\n",
    "Before looking at effects of serial position on recall, take a look at how overall recall varies by task. The `recall` field is `True` for each word that was recalled. Calculate the mean recall for each task, separately for each subject. \n",
    "\n",
    "Make a bar plot showing mean recall in each task condition, with error bars indicating variability across subjects. Label the y-axis with \"Recall probability\" and label the x-axis with \"Task\". Write a caption for your plot in a markdown cell below the plot.\n",
    "\n",
    "Calculate a one-way repeated-measures ANOVA to examine whether there is any effect of task on overall recall accuracy. Also calculate the mean and SEM for each condition.\n",
    "\n",
    "Do there seem be overall differences in recall between the different task conditions? Report the summary statistics and the results of the ANOVA."
   ]
  },
  {
   "cell_type": "code",
   "execution_count": 3,
   "metadata": {},
   "outputs": [],
   "source": [
    "# your code here"
   ]
  },
  {
   "cell_type": "markdown",
   "metadata": {},
   "source": [
    "(Discuss your results here.)"
   ]
  },
  {
   "cell_type": "markdown",
   "metadata": {},
   "source": [
    "## Plot recall by serial position and task\n",
    "\n",
    "Next, calculate how recall probability varies depending on subject, serial position (represented in the `input` column in the dataset), and task condition.\n",
    "\n",
    "Make a figure with line plots showing how recall probability varies depending on serial position and task condition. Your plot should look similar to the top panel of Figure 1 in Polyn et al. (2011), but with error bands indicating variability across subjects. the order of the subplots should be so the Uncategorized condition is on the left, Categorized is in the center, and Recall-by-category is on the right. Label the x-axis as \"Serial position\" and the y-axis as \"Recall probability\". Set the y-axis limits to range between 0 and 1. Write a caption for your figure in a markdown cell below it.\n",
    "\n",
    "Discuss your results. Does recall appear to vary by serial position in each task condition?"
   ]
  },
  {
   "cell_type": "code",
   "execution_count": 4,
   "metadata": {},
   "outputs": [],
   "source": [
    "# your code here"
   ]
  },
  {
   "cell_type": "markdown",
   "metadata": {},
   "source": [
    "(Discuss your results here.)"
   ]
  },
  {
   "cell_type": "markdown",
   "metadata": {},
   "source": [
    "## Plot recall by serial position group and task\n",
    "\n",
    "Calculate the average recall for each serial position group (Early: serial position 1-6; Middle: serial position 7-21; Late: serial position 22-24), for each task condition, separately for each subject. \n",
    "\n",
    "Make a figure with line plots showing how recall probability varies depending on serial position group and task condition. Your plot should look similar to the bottom panel of Figure 1 in Polyn et al. (2011), but with different tasks labeled with different colors and error bands indicating variability across subjects. Label the x-axis as \"Serial position group\" and the y-axis as \"Recall probability\". Label the serial position groups as \"Early\", \"Middle\", and \"Late\". Set the y-axis so that it ranges from 0 to 1. Write a caption for your figure in a markdown cell below it.\n",
    "\n",
    "Calculate a two-way repeated-measures ANOVA to examine the effects of serial position group, task condition, and their interactions. Also calculate the mean and SEM for each condition.\n",
    "\n",
    "Report the results of the ANOVA (with Greenhouse-Geisser corrected p-values) and the summary statistics for each combination of serial position group and task condition. Does recall appear to vary between task conditions? What about serial position group? Is there an interaction between task condition and serial position group?"
   ]
  },
  {
   "cell_type": "code",
   "execution_count": 5,
   "metadata": {},
   "outputs": [],
   "source": [
    "# your code here"
   ]
  },
  {
   "cell_type": "markdown",
   "metadata": {},
   "source": [
    "(Discuss your results here.)"
   ]
  },
  {
   "cell_type": "markdown",
   "metadata": {},
   "source": [
    "## Plot recall-by-category by serial position\n",
    "\n",
    "For the recall-by-category trials, you can think of the different categories as being sort of within separate \"lists\" that have their own serial position. For example, you can label the first item of each category as having a category serial position of 1, the second item from that category as position 2, and so forth. The `category_input` column indicates this position. The `period` column indicates which recall period each category was prompted. For example, a participant might have been asked to recall the *CITIES* category in period 1, followed by the *CLOTHES* category in period 2, and then the *BUILDING PARTS* category in period 3.\n",
    "\n",
    "For just the recall-by-category trials, calculate the mean recall for each combination of subject, recall period, and category input.\n",
    "\n",
    "Make figure with line plots of how recall varies by within-category serial position, separately for each recall period. Your plot should look similar to Figure 2 in Polyn et al. (2011), but with confidence bands that indicate variability across subjects. Label the x-axis as \"Serial position\" and the y-axis as \"Recall probability\". Set the y-axis so it varies between 0 and 1. Write a caption for your figure in a markdown cell below it.\n",
    "\n",
    "Discuss your results. Does there appear to be a persistent recency effect? If so, how long does it seem to last?"
   ]
  },
  {
   "cell_type": "code",
   "execution_count": 6,
   "metadata": {},
   "outputs": [],
   "source": [
    "# your code here"
   ]
  },
  {
   "cell_type": "markdown",
   "metadata": {},
   "source": [
    "(Discuss your results here.)"
   ]
  },
  {
   "cell_type": "markdown",
   "metadata": {},
   "source": [
    "## Test for a recency effect during each recall-by-category period\n",
    "\n",
    "Calculate the mean recall in each within-category serial position (Early: position 1-3; Middle: position 4-5; Late: position 6-8), separately for each recall period. \n",
    "\n",
    "For each recall period, use a t-test to test whether the recall is significantly greater for Late positions compared to Middle positions. Also, calculate the mean and SEM for the middle and late positions for each recall period.\n",
    "\n",
    "Report the results of the t-tests and the summary statistics. Is there evidence for a persistent recency effect? If so, does it only exist for recall period 2, or does it also appear in recall period 3?"
   ]
  },
  {
   "cell_type": "code",
   "execution_count": 7,
   "metadata": {},
   "outputs": [],
   "source": [
    "# your code here"
   ]
  },
  {
   "cell_type": "markdown",
   "metadata": {},
   "source": [
    "(Report your statistics and discuss your results here.)"
   ]
  },
  {
   "cell_type": "markdown",
   "metadata": {},
   "source": [
    "# Discussion\n",
    "\n",
    "(Discuss your findings. Were there differences in recall between the categorized and uncategorized lists? Did serial position effects vary between task conditions? In the recall-by-category condition, was there evidence of a persistent recency effect?)"
   ]
  }
 ],
 "metadata": {
  "kernelspec": {
   "display_name": ".venv",
   "language": "python",
   "name": "python3"
  },
  "language_info": {
   "codemirror_mode": {
    "name": "ipython",
    "version": 3
   },
   "file_extension": ".py",
   "mimetype": "text/x-python",
   "name": "python",
   "nbconvert_exporter": "python",
   "pygments_lexer": "ipython3",
   "version": "3.12.8"
  }
 },
 "nbformat": 4,
 "nbformat_minor": 2
}
